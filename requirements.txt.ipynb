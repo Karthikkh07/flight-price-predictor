{
 "cells": [
  {
   "cell_type": "markdown",
   "id": "a6629415-c1aa-4abf-a33d-69d89e0e9cda",
   "metadata": {},
   "source": [
    "# Problem Statement"
   ]
  },
  {
   "cell_type": "raw",
   "id": "fb7609a5-dafd-482c-9192-8e54dd827900",
   "metadata": {},
   "source": [
    "Flight ticket prices are often unpredictable. The price for a flight today might be very different tomorrow, which makes planning trips challenging for travelers.\n",
    "\n",
    "Using Machine Learning, we aim to predict flight ticket prices. This can help:\n",
    "\n",
    "Travelers plan their journeys and budget better.\n",
    "\n",
    "Airlines understand pricing patterns and optimize fare strategies."
   ]
  },
  {
   "cell_type": "markdown",
   "id": "34e0a821-01ea-4e23-81b3-262e79fd846a",
   "metadata": {},
   "source": [
    "# Tasks / Goals"
   ]
  },
  {
   "cell_type": "raw",
   "id": "5d21f8a1-6482-4cfd-bbb7-85a219177fa4",
   "metadata": {},
   "source": [
    "Task 1: Prepare a complete data analysis report on the given dataset.\n",
    "\n",
    "Explore features such as airline, source, destination, departure/arrival times, duration, stops, etc.\n",
    "\n",
    "Handle missing values and perform feature engineering.\n",
    "\n",
    "Visualize trends and relationships between features and prices.\n",
    "\n",
    "Task 2: Create a predictive model to estimate future flight prices.\n",
    "\n",
    "Build a machine learning model using Scikit-Learn.\n",
    "\n",
    "Create an interactive app using Streamlit for user inputs and predictions.\n",
    "\n",
    "Enable customers to plan trips effectively based on predicted fares."
   ]
  },
  {
   "cell_type": "markdown",
   "id": "770f8a8e-1b31-4f45-ba61-757ce196d0f2",
   "metadata": {},
   "source": [
    "\n",
    "#  Imports & settings"
   ]
  },
  {
   "cell_type": "code",
   "execution_count": null,
   "id": "4678411c-4c27-40a8-b0ad-7541971decec",
   "metadata": {},
   "outputs": [],
   "source": [
    "\n",
    "import pandas as pd\n",
    "import numpy as np\n",
    "import matplotlib.pyplot as plt\n",
    "import seaborn as sns\n",
    "import joblib\n",
    "import pickle\n",
    "from sklearn.model_selection import train_test_split, GridSearchCV, cross_val_score\n",
    "from sklearn.preprocessing import OneHotEncoder, StandardScaler\n",
    "from sklearn.compose import ColumnTransformer\n",
    "from sklearn.pipeline import Pipeline\n",
    "from sklearn.metrics import r2_score, mean_absolute_error, mean_squared_error\n",
    "from sklearn.linear_model import LinearRegression\n",
    "from sklearn.ensemble import RandomForestRegressor, GradientBoostingRegressor\n",
    "import warnings\n",
    "warnings.filterwarnings(\"ignore\")\n",
    "sns.set(style=\"whitegrid\")\n",
    "pd.options.display.max_columns = None"
   ]
  },
  {
   "cell_type": "markdown",
   "id": "ce453c29-28a5-48a8-b5fe-0c83072d63db",
   "metadata": {},
   "source": [
    "# Load the dataset"
   ]
  },
  {
   "cell_type": "code",
   "execution_count": 2,
   "id": "550ab364-13e6-456b-ae89-f1ae50b2e66e",
   "metadata": {
    "scrolled": true
   },
   "outputs": [
    {
     "name": "stdout",
     "output_type": "stream",
     "text": [
      "Shape: (10683, 11)\n"
     ]
    },
    {
     "data": {
      "text/html": [
       "<div>\n",
       "<style scoped>\n",
       "    .dataframe tbody tr th:only-of-type {\n",
       "        vertical-align: middle;\n",
       "    }\n",
       "\n",
       "    .dataframe tbody tr th {\n",
       "        vertical-align: top;\n",
       "    }\n",
       "\n",
       "    .dataframe thead th {\n",
       "        text-align: right;\n",
       "    }\n",
       "</style>\n",
       "<table border=\"1\" class=\"dataframe\">\n",
       "  <thead>\n",
       "    <tr style=\"text-align: right;\">\n",
       "      <th></th>\n",
       "      <th>Airline</th>\n",
       "      <th>Date_of_Journey</th>\n",
       "      <th>Source</th>\n",
       "      <th>Destination</th>\n",
       "      <th>Route</th>\n",
       "      <th>Dep_Time</th>\n",
       "      <th>Arrival_Time</th>\n",
       "      <th>Duration</th>\n",
       "      <th>Total_Stops</th>\n",
       "      <th>Additional_Info</th>\n",
       "      <th>Price</th>\n",
       "    </tr>\n",
       "  </thead>\n",
       "  <tbody>\n",
       "    <tr>\n",
       "      <th>0</th>\n",
       "      <td>IndiGo</td>\n",
       "      <td>24/03/2019</td>\n",
       "      <td>Banglore</td>\n",
       "      <td>New Delhi</td>\n",
       "      <td>BLR → DEL</td>\n",
       "      <td>22:20</td>\n",
       "      <td>01:10 22 Mar</td>\n",
       "      <td>2h 50m</td>\n",
       "      <td>non-stop</td>\n",
       "      <td>No info</td>\n",
       "      <td>3897</td>\n",
       "    </tr>\n",
       "    <tr>\n",
       "      <th>1</th>\n",
       "      <td>Air India</td>\n",
       "      <td>1/05/2019</td>\n",
       "      <td>Kolkata</td>\n",
       "      <td>Banglore</td>\n",
       "      <td>CCU → IXR → BBI → BLR</td>\n",
       "      <td>05:50</td>\n",
       "      <td>13:15</td>\n",
       "      <td>7h 25m</td>\n",
       "      <td>2 stops</td>\n",
       "      <td>No info</td>\n",
       "      <td>7662</td>\n",
       "    </tr>\n",
       "    <tr>\n",
       "      <th>2</th>\n",
       "      <td>Jet Airways</td>\n",
       "      <td>9/06/2019</td>\n",
       "      <td>Delhi</td>\n",
       "      <td>Cochin</td>\n",
       "      <td>DEL → LKO → BOM → COK</td>\n",
       "      <td>09:25</td>\n",
       "      <td>04:25 10 Jun</td>\n",
       "      <td>19h</td>\n",
       "      <td>2 stops</td>\n",
       "      <td>No info</td>\n",
       "      <td>13882</td>\n",
       "    </tr>\n",
       "    <tr>\n",
       "      <th>3</th>\n",
       "      <td>IndiGo</td>\n",
       "      <td>12/05/2019</td>\n",
       "      <td>Kolkata</td>\n",
       "      <td>Banglore</td>\n",
       "      <td>CCU → NAG → BLR</td>\n",
       "      <td>18:05</td>\n",
       "      <td>23:30</td>\n",
       "      <td>5h 25m</td>\n",
       "      <td>1 stop</td>\n",
       "      <td>No info</td>\n",
       "      <td>6218</td>\n",
       "    </tr>\n",
       "    <tr>\n",
       "      <th>4</th>\n",
       "      <td>IndiGo</td>\n",
       "      <td>01/03/2019</td>\n",
       "      <td>Banglore</td>\n",
       "      <td>New Delhi</td>\n",
       "      <td>BLR → NAG → DEL</td>\n",
       "      <td>16:50</td>\n",
       "      <td>21:35</td>\n",
       "      <td>4h 45m</td>\n",
       "      <td>1 stop</td>\n",
       "      <td>No info</td>\n",
       "      <td>13302</td>\n",
       "    </tr>\n",
       "  </tbody>\n",
       "</table>\n",
       "</div>"
      ],
      "text/plain": [
       "       Airline Date_of_Journey    Source Destination                  Route  \\\n",
       "0       IndiGo      24/03/2019  Banglore   New Delhi              BLR → DEL   \n",
       "1    Air India       1/05/2019   Kolkata    Banglore  CCU → IXR → BBI → BLR   \n",
       "2  Jet Airways       9/06/2019     Delhi      Cochin  DEL → LKO → BOM → COK   \n",
       "3       IndiGo      12/05/2019   Kolkata    Banglore        CCU → NAG → BLR   \n",
       "4       IndiGo      01/03/2019  Banglore   New Delhi        BLR → NAG → DEL   \n",
       "\n",
       "  Dep_Time  Arrival_Time Duration Total_Stops Additional_Info  Price  \n",
       "0    22:20  01:10 22 Mar   2h 50m    non-stop         No info   3897  \n",
       "1    05:50         13:15   7h 25m     2 stops         No info   7662  \n",
       "2    09:25  04:25 10 Jun      19h     2 stops         No info  13882  \n",
       "3    18:05         23:30   5h 25m      1 stop         No info   6218  \n",
       "4    16:50         21:35   4h 45m      1 stop         No info  13302  "
      ]
     },
     "execution_count": 2,
     "metadata": {},
     "output_type": "execute_result"
    }
   ],
   "source": [
    "\n",
    "df = pd.read_excel(\"Flight_Fare.xlsx\")   # adjust filename if needed\n",
    "print(\"Shape:\", df.shape)\n",
    "df.head()\n"
   ]
  },
  {
   "cell_type": "markdown",
   "id": "e07847db-81d5-4480-b1b8-4bc05bbc7731",
   "metadata": {},
   "source": [
    "# Quick info & missing values"
   ]
  },
  {
   "cell_type": "code",
   "execution_count": 3,
   "id": "3871b6f2-8ca1-4a5f-8c01-fb5c242ac748",
   "metadata": {},
   "outputs": [
    {
     "name": "stdout",
     "output_type": "stream",
     "text": [
      "<class 'pandas.core.frame.DataFrame'>\n",
      "RangeIndex: 10683 entries, 0 to 10682\n",
      "Data columns (total 11 columns):\n",
      " #   Column           Non-Null Count  Dtype \n",
      "---  ------           --------------  ----- \n",
      " 0   Airline          10683 non-null  object\n",
      " 1   Date_of_Journey  10683 non-null  object\n",
      " 2   Source           10683 non-null  object\n",
      " 3   Destination      10683 non-null  object\n",
      " 4   Route            10682 non-null  object\n",
      " 5   Dep_Time         10683 non-null  object\n",
      " 6   Arrival_Time     10683 non-null  object\n",
      " 7   Duration         10683 non-null  object\n",
      " 8   Total_Stops      10682 non-null  object\n",
      " 9   Additional_Info  10683 non-null  object\n",
      " 10  Price            10683 non-null  int64 \n",
      "dtypes: int64(1), object(10)\n",
      "memory usage: 918.2+ KB\n",
      "None\n"
     ]
    },
    {
     "data": {
      "text/plain": [
       "Airline            0\n",
       "Date_of_Journey    0\n",
       "Source             0\n",
       "Destination        0\n",
       "Route              1\n",
       "Dep_Time           0\n",
       "Arrival_Time       0\n",
       "Duration           0\n",
       "Total_Stops        1\n",
       "Additional_Info    0\n",
       "Price              0\n",
       "dtype: int64"
      ]
     },
     "metadata": {},
     "output_type": "display_data"
    }
   ],
   "source": [
    "\n",
    "print(df.info())\n",
    "display(df.isnull().sum())\n"
   ]
  },
  {
   "cell_type": "markdown",
   "id": "31af9e24-727e-4e2d-94d5-f7141d60bdf5",
   "metadata": {},
   "source": [
    "# EDA: basic statistics and target distribution"
   ]
  },
  {
   "cell_type": "code",
   "execution_count": 4,
   "id": "9738df74-80e2-409e-86dd-782239a94213",
   "metadata": {},
   "outputs": [
    {
     "data": {
      "text/plain": [
       "count    10683.000000\n",
       "mean      9087.064121\n",
       "std       4611.359167\n",
       "min       1759.000000\n",
       "25%       5277.000000\n",
       "50%       8372.000000\n",
       "75%      12373.000000\n",
       "max      79512.000000\n",
       "Name: Price, dtype: float64"
      ]
     },
     "metadata": {},
     "output_type": "display_data"
    },
    {
     "data": {
      "image/png": "[encoded data removed]",
      "text/plain": [
       "<Figure size 640x480 with 1 Axes>"
      ]
     },
     "metadata": {},
     "output_type": "display_data"
    }
   ],
   "source": [
    "\n",
    "if 'Price' in df.columns:\n",
    "    display(df['Price'].describe())\n",
    "    sns.histplot(df['Price'], kde=True)\n",
    "    plt.title('Price distribution')\n",
    "    plt.show()\n",
    "else:\n",
    "    print(\"No 'Price' column detected. Replace with correct target column name.\")\n"
   ]
  },
  {
   "cell_type": "markdown",
   "id": "92599242-83f1-498a-b8fd-dc0549209a47",
   "metadata": {},
   "source": [
    "#  Show unique values for small-cardinality columns"
   ]
  },
  {
   "cell_type": "code",
   "execution_count": 5,
   "id": "236313f5-3d51-4cb4-a3a5-b3a6aa751cf9",
   "metadata": {},
   "outputs": [
    {
     "name": "stdout",
     "output_type": "stream",
     "text": [
      "Airline                   | unique: 12 | ['IndiGo' 'Air India' 'Jet Airways' 'SpiceJet' 'Multiple carriers' 'GoAir'\n",
      " 'Vistara' 'Air Asia' 'Vistara Premium economy' 'Jet Airways Business'\n",
      " 'Multiple carriers Premium economy' 'Trujet']\n",
      "Date_of_Journey           | unique: 44\n",
      "Source                    | unique: 5 | ['Banglore' 'Kolkata' 'Delhi' 'Chennai' 'Mumbai']\n",
      "Destination               | unique: 6 | ['New Delhi' 'Banglore' 'Cochin' 'Kolkata' 'Delhi' 'Hyderabad']\n",
      "Route                     | unique: 128\n",
      "Dep_Time                  | unique: 222\n",
      "Arrival_Time              | unique: 1343\n",
      "Duration                  | unique: 368\n",
      "Total_Stops               | unique: 5 | ['non-stop' '2 stops' '1 stop' '3 stops' nan '4 stops']\n",
      "Additional_Info           | unique: 10 | ['No info' 'In-flight meal not included' 'No check-in baggage included'\n",
      " '1 Short layover' 'No Info' '1 Long layover' 'Change airports'\n",
      " 'Business class' 'Red-eye flight' '2 Long layover']\n",
      "Price                     | unique: 1870\n"
     ]
    }
   ],
   "source": [
    "\n",
    "for col in df.columns:\n",
    "    n = df[col].nunique()\n",
    "    if n <= 20:\n",
    "        print(f\"{col:25} | unique: {n} | {df[col].unique()[:20]}\")\n",
    "    else:\n",
    "        print(f\"{col:25} | unique: {n}\")\n"
   ]
  },
  {
   "cell_type": "markdown",
   "id": "40972d00-def5-4db2-b25b-055ca111c72c",
   "metadata": {},
   "source": [
    "# Feature engineering "
   ]
  },
  {
   "cell_type": "code",
   "execution_count": 6,
   "id": "d2e37ce7-dd5c-4f6c-a107-0fa578676aa2",
   "metadata": {},
   "outputs": [
    {
     "data": {
      "text/html": [
       "<div>\n",
       "<style scoped>\n",
       "    .dataframe tbody tr th:only-of-type {\n",
       "        vertical-align: middle;\n",
       "    }\n",
       "\n",
       "    .dataframe tbody tr th {\n",
       "        vertical-align: top;\n",
       "    }\n",
       "\n",
       "    .dataframe thead th {\n",
       "        text-align: right;\n",
       "    }\n",
       "</style>\n",
       "<table border=\"1\" class=\"dataframe\">\n",
       "  <thead>\n",
       "    <tr style=\"text-align: right;\">\n",
       "      <th></th>\n",
       "      <th>Airline</th>\n",
       "      <th>Date_of_Journey</th>\n",
       "      <th>Source</th>\n",
       "      <th>Destination</th>\n",
       "      <th>Route</th>\n",
       "      <th>Dep_Time</th>\n",
       "      <th>Arrival_Time</th>\n",
       "      <th>Duration</th>\n",
       "      <th>Total_Stops</th>\n",
       "      <th>Additional_Info</th>\n",
       "      <th>Price</th>\n",
       "      <th>Journey_Day</th>\n",
       "      <th>Journey_Month</th>\n",
       "      <th>Dep_Time_parsed</th>\n",
       "      <th>Dep_Time_dt</th>\n",
       "      <th>Dep_Hour</th>\n",
       "      <th>Dep_Min</th>\n",
       "      <th>Arrival_Time_parsed</th>\n",
       "      <th>Arrival_Time_dt</th>\n",
       "      <th>Arr_Hour</th>\n",
       "      <th>Arr_Min</th>\n",
       "      <th>Duration_mins</th>\n",
       "      <th>Total_Stops_Num</th>\n",
       "    </tr>\n",
       "  </thead>\n",
       "  <tbody>\n",
       "    <tr>\n",
       "      <th>0</th>\n",
       "      <td>IndiGo</td>\n",
       "      <td>2019-03-24</td>\n",
       "      <td>Banglore</td>\n",
       "      <td>New Delhi</td>\n",
       "      <td>BLR → DEL</td>\n",
       "      <td>22:20</td>\n",
       "      <td>01:10 22 Mar</td>\n",
       "      <td>2h 50m</td>\n",
       "      <td>non-stop</td>\n",
       "      <td>No info</td>\n",
       "      <td>3897</td>\n",
       "      <td>24</td>\n",
       "      <td>3</td>\n",
       "      <td>22:20:00</td>\n",
       "      <td>2025-08-25 22:20:00</td>\n",
       "      <td>22</td>\n",
       "      <td>20</td>\n",
       "      <td>NaT</td>\n",
       "      <td>2025-03-22 01:10:00</td>\n",
       "      <td>1</td>\n",
       "      <td>10</td>\n",
       "      <td>170</td>\n",
       "      <td>0.0</td>\n",
       "    </tr>\n",
       "    <tr>\n",
       "      <th>1</th>\n",
       "      <td>Air India</td>\n",
       "      <td>2019-05-01</td>\n",
       "      <td>Kolkata</td>\n",
       "      <td>Banglore</td>\n",
       "      <td>CCU → IXR → BBI → BLR</td>\n",
       "      <td>05:50</td>\n",
       "      <td>13:15</td>\n",
       "      <td>7h 25m</td>\n",
       "      <td>2 stops</td>\n",
       "      <td>No info</td>\n",
       "      <td>7662</td>\n",
       "      <td>1</td>\n",
       "      <td>5</td>\n",
       "      <td>05:50:00</td>\n",
       "      <td>2025-08-25 05:50:00</td>\n",
       "      <td>5</td>\n",
       "      <td>50</td>\n",
       "      <td>13:15:00</td>\n",
       "      <td>2025-08-25 13:15:00</td>\n",
       "      <td>13</td>\n",
       "      <td>15</td>\n",
       "      <td>445</td>\n",
       "      <td>2.0</td>\n",
       "    </tr>\n",
       "    <tr>\n",
       "      <th>2</th>\n",
       "      <td>Jet Airways</td>\n",
       "      <td>2019-06-09</td>\n",
       "      <td>Delhi</td>\n",
       "      <td>Cochin</td>\n",
       "      <td>DEL → LKO → BOM → COK</td>\n",
       "      <td>09:25</td>\n",
       "      <td>04:25 10 Jun</td>\n",
       "      <td>19h</td>\n",
       "      <td>2 stops</td>\n",
       "      <td>No info</td>\n",
       "      <td>13882</td>\n",
       "      <td>9</td>\n",
       "      <td>6</td>\n",
       "      <td>09:25:00</td>\n",
       "      <td>2025-08-25 09:25:00</td>\n",
       "      <td>9</td>\n",
       "      <td>25</td>\n",
       "      <td>NaT</td>\n",
       "      <td>2025-06-10 04:25:00</td>\n",
       "      <td>4</td>\n",
       "      <td>25</td>\n",
       "      <td>1140</td>\n",
       "      <td>2.0</td>\n",
       "    </tr>\n",
       "    <tr>\n",
       "      <th>3</th>\n",
       "      <td>IndiGo</td>\n",
       "      <td>2019-05-12</td>\n",
       "      <td>Kolkata</td>\n",
       "      <td>Banglore</td>\n",
       "      <td>CCU → NAG → BLR</td>\n",
       "      <td>18:05</td>\n",
       "      <td>23:30</td>\n",
       "      <td>5h 25m</td>\n",
       "      <td>1 stop</td>\n",
       "      <td>No info</td>\n",
       "      <td>6218</td>\n",
       "      <td>12</td>\n",
       "      <td>5</td>\n",
       "      <td>18:05:00</td>\n",
       "      <td>2025-08-25 18:05:00</td>\n",
       "      <td>18</td>\n",
       "      <td>5</td>\n",
       "      <td>23:30:00</td>\n",
       "      <td>2025-08-25 23:30:00</td>\n",
       "      <td>23</td>\n",
       "      <td>30</td>\n",
       "      <td>325</td>\n",
       "      <td>1.0</td>\n",
       "    </tr>\n",
       "    <tr>\n",
       "      <th>4</th>\n",
       "      <td>IndiGo</td>\n",
       "      <td>2019-03-01</td>\n",
       "      <td>Banglore</td>\n",
       "      <td>New Delhi</td>\n",
       "      <td>BLR → NAG → DEL</td>\n",
       "      <td>16:50</td>\n",
       "      <td>21:35</td>\n",
       "      <td>4h 45m</td>\n",
       "      <td>1 stop</td>\n",
       "      <td>No info</td>\n",
       "      <td>13302</td>\n",
       "      <td>1</td>\n",
       "      <td>3</td>\n",
       "      <td>16:50:00</td>\n",
       "      <td>2025-08-25 16:50:00</td>\n",
       "      <td>16</td>\n",
       "      <td>50</td>\n",
       "      <td>21:35:00</td>\n",
       "      <td>2025-08-25 21:35:00</td>\n",
       "      <td>21</td>\n",
       "      <td>35</td>\n",
       "      <td>285</td>\n",
       "      <td>1.0</td>\n",
       "    </tr>\n",
       "  </tbody>\n",
       "</table>\n",
       "</div>"
      ],
      "text/plain": [
       "       Airline Date_of_Journey    Source Destination                  Route  \\\n",
       "0       IndiGo      2019-03-24  Banglore   New Delhi              BLR → DEL   \n",
       "1    Air India      2019-05-01   Kolkata    Banglore  CCU → IXR → BBI → BLR   \n",
       "2  Jet Airways      2019-06-09     Delhi      Cochin  DEL → LKO → BOM → COK   \n",
       "3       IndiGo      2019-05-12   Kolkata    Banglore        CCU → NAG → BLR   \n",
       "4       IndiGo      2019-03-01  Banglore   New Delhi        BLR → NAG → DEL   \n",
       "\n",
       "  Dep_Time  Arrival_Time Duration Total_Stops Additional_Info  Price  \\\n",
       "0    22:20  01:10 22 Mar   2h 50m    non-stop         No info   3897   \n",
       "1    05:50         13:15   7h 25m     2 stops         No info   7662   \n",
       "2    09:25  04:25 10 Jun      19h     2 stops         No info  13882   \n",
       "3    18:05         23:30   5h 25m      1 stop         No info   6218   \n",
       "4    16:50         21:35   4h 45m      1 stop         No info  13302   \n",
       "\n",
       "   Journey_Day  Journey_Month Dep_Time_parsed         Dep_Time_dt  Dep_Hour  \\\n",
       "0           24              3        22:20:00 2025-08-25 22:20:00        22   \n",
       "1            1              5        05:50:00 2025-08-25 05:50:00         5   \n",
       "2            9              6        09:25:00 2025-08-25 09:25:00         9   \n",
       "3           12              5        18:05:00 2025-08-25 18:05:00        18   \n",
       "4            1              3        16:50:00 2025-08-25 16:50:00        16   \n",
       "\n",
       "   Dep_Min Arrival_Time_parsed     Arrival_Time_dt  Arr_Hour  Arr_Min  \\\n",
       "0       20                 NaT 2025-03-22 01:10:00         1       10   \n",
       "1       50            13:15:00 2025-08-25 13:15:00        13       15   \n",
       "2       25                 NaT 2025-06-10 04:25:00         4       25   \n",
       "3        5            23:30:00 2025-08-25 23:30:00        23       30   \n",
       "4       50            21:35:00 2025-08-25 21:35:00        21       35   \n",
       "\n",
       "   Duration_mins  Total_Stops_Num  \n",
       "0            170              0.0  \n",
       "1            445              2.0  \n",
       "2           1140              2.0  \n",
       "3            325              1.0  \n",
       "4            285              1.0  "
      ]
     },
     "execution_count": 6,
     "metadata": {},
     "output_type": "execute_result"
    }
   ],
   "source": [
    "#  Feature engineering for flight datasets (common columns)\n",
    "# This block handles common patterns: Date_of_Journey, Dep_Time, Arrival_Time, Duration, Total_Stops\n",
    "# It is robust: checks presence before attempting transformations.\n",
    "\n",
    "def parse_date_time_cols(df):\n",
    "    df = df.copy()\n",
    "    # Date_of_Journey -> day, month\n",
    "    if 'Date_of_Journey' in df.columns:\n",
    "        df['Date_of_Journey'] = pd.to_datetime(df['Date_of_Journey'], errors='coerce', dayfirst=True)\n",
    "        df['Journey_Day'] = df['Date_of_Journey'].dt.day\n",
    "        df['Journey_Month'] = df['Date_of_Journey'].dt.month\n",
    "\n",
    "    # Dep_Time and Arrival_Time -> hour, minute\n",
    "    for col, pref in [('Dep_Time','Dep'), ('Arrival_Time','Arr')]:\n",
    "        if col in df.columns:\n",
    "            # some may include only time, so try to parse\n",
    "            df[col + '_parsed'] = pd.to_datetime(df[col].astype(str), format='%H:%M', errors='coerce').dt.time\n",
    "            # fallback parsing any datetime-like string\n",
    "            df[col + '_dt'] = pd.to_datetime(df[col], errors='coerce')\n",
    "            df[pref + '_Hour'] = df[col + '_dt'].dt.hour.fillna(0).astype(int)\n",
    "            df[pref + '_Min'] = df[col + '_dt'].dt.minute.fillna(0).astype(int)\n",
    "\n",
    "    # Duration -> convert to total minutes\n",
    "    if 'Duration' in df.columns:\n",
    "        # Duration values like \"2h 50m\" or \"2h\" or \"50m\"\n",
    "        def duration_to_mins(x):\n",
    "            if pd.isna(x): return np.nan\n",
    "            s = str(x).strip()\n",
    "            hours = 0\n",
    "            mins = 0\n",
    "            if 'h' in s:\n",
    "                try:\n",
    "                    hours = int(s.split('h')[0].strip())\n",
    "                    rest = s.split('h')[1]\n",
    "                except:\n",
    "                    hours = 0\n",
    "                    rest = s\n",
    "            else:\n",
    "                rest = s\n",
    "            if 'm' in rest:\n",
    "                try:\n",
    "                    mins = int(rest.replace('m','').strip())\n",
    "                except:\n",
    "                    mins = 0\n",
    "            return hours*60 + mins\n",
    "        df['Duration_mins'] = df['Duration'].apply(duration_to_mins)\n",
    "    \n",
    "    # Total_Stops -> numeric: 'non-stop' -> 0, '1 stop' -> 1 etc.\n",
    "    if 'Total_Stops' in df.columns:\n",
    "        def stops_to_int(x):\n",
    "            if pd.isna(x): return np.nan\n",
    "            s = str(x).strip().lower()\n",
    "            if s in ['non-stop', 'non stop', 'nonstop', '0 stops', '0 stop', '0']:\n",
    "                return 0\n",
    "            try:\n",
    "                # handle \"1 stop\", \"2 stops\"\n",
    "                return int([int(i) for i in s.split() if i.isdigit()][0])\n",
    "            except:\n",
    "                # fallback for \"1 stop\"\n",
    "                if '1' in s: return 1\n",
    "                if '2' in s: return 2\n",
    "                if '3' in s: return 3\n",
    "                return np.nan\n",
    "        df['Total_Stops_Num'] = df['Total_Stops'].apply(stops_to_int)\n",
    "    return df\n",
    "\n",
    "df = parse_date_time_cols(df)\n",
    "df.head()\n"
   ]
  },
  {
   "cell_type": "markdown",
   "id": "1f8b2e30-68b3-498a-a7b3-fa4f17f22c59",
   "metadata": {},
   "source": [
    "#  Handle missing values"
   ]
  },
  {
   "cell_type": "code",
   "execution_count": 7,
   "id": "91a22bf9-1f1d-45d4-9d01-de236d3e2084",
   "metadata": {},
   "outputs": [
    {
     "data": {
      "text/plain": [
       "Airline                   0\n",
       "Date_of_Journey           0\n",
       "Source                    0\n",
       "Destination               0\n",
       "Route                     0\n",
       "Dep_Time                  0\n",
       "Arrival_Time              0\n",
       "Duration                  0\n",
       "Total_Stops               1\n",
       "Additional_Info           0\n",
       "Price                     0\n",
       "Journey_Day               0\n",
       "Journey_Month             0\n",
       "Dep_Time_parsed           0\n",
       "Dep_Time_dt               0\n",
       "Dep_Hour                  0\n",
       "Dep_Min                   0\n",
       "Arrival_Time_parsed    4335\n",
       "Arrival_Time_dt           0\n",
       "Arr_Hour                  0\n",
       "Arr_Min                   0\n",
       "Duration_mins             0\n",
       "Total_Stops_Num           0\n",
       "dtype: int64"
      ]
     },
     "metadata": {},
     "output_type": "display_data"
    }
   ],
   "source": [
    "#  Handle missing values (simple but robust approach)\n",
    "# Strategy:\n",
    "# - Drop rows where target (Price) is missing\n",
    "# - For numeric engineered features: fill with median\n",
    "# - For categorical: fill with 'Unknown' or 'No Info'\n",
    "\n",
    "# drop rows where Price missing\n",
    "if 'Price' in df.columns:\n",
    "    df = df[df['Price'].notna()].copy()\n",
    "\n",
    "# fill for engineered numerical columns\n",
    "num_fill_cols = [c for c in ['Duration_mins','Total_Stops_Num','Journey_Day','Journey_Month','Dep_Hour','Dep_Min','Arr_Hour','Arr_Min'] if c in df.columns]\n",
    "for col in num_fill_cols:\n",
    "    df[col] = df[col].fillna(df[col].median())\n",
    "\n",
    "# fill categorical nulls\n",
    "cat_cols_guess = ['Airline','Source','Destination','Route','Additional_Info']\n",
    "for c in cat_cols_guess:\n",
    "    if c in df.columns:\n",
    "        df[c] = df[c].fillna('No Info')\n",
    "\n",
    "# check again\n",
    "display(df.isnull().sum())\n"
   ]
  },
  {
   "cell_type": "markdown",
   "id": "91be9deb-ff67-45f0-8e57-09b8e2059f7b",
   "metadata": {},
   "source": [
    "# select features"
   ]
  },
  {
   "cell_type": "code",
   "execution_count": 8,
   "id": "8393bccc-96c8-49d0-a389-fb9791b17570",
   "metadata": {},
   "outputs": [
    {
     "name": "stdout",
     "output_type": "stream",
     "text": [
      "Using features: ['Duration_mins', 'Total_Stops_Num', 'Journey_Day', 'Journey_Month', 'Dep_Hour', 'Dep_Min', 'Arr_Hour', 'Arr_Min', 'Airline', 'Source', 'Destination', 'Route', 'Additional_Info']\n"
     ]
    }
   ],
   "source": [
    "#  Create final feature set (select features to use)\n",
    "# Typical features to include:\n",
    "features = []\n",
    "# always include numeric engineered features if present\n",
    "for c in ['Duration_mins','Total_Stops_Num','Journey_Day','Journey_Month','Dep_Hour','Dep_Min','Arr_Hour','Arr_Min']:\n",
    "    if c in df.columns:\n",
    "        # note: Dep_Hour column name in parse_date_time_cols is 'Dep_Hour' or 'Dep_Hour'? check actual\n",
    "        # our parse used 'Dep_Hour' prefix - we used 'Dep' prefix earlier.\n",
    "        # check actual names\n",
    "        for actual in df.columns:\n",
    "            if actual.lower().startswith(c.lower()):\n",
    "                pass\n",
    "        features.append(c)\n",
    "\n",
    "# include categorical columns if present\n",
    "for c in ['Airline','Source','Destination','Route','Additional_Info']:\n",
    "    if c in df.columns:\n",
    "        features.append(c)\n",
    "\n",
    "# Remove duplicates & keep order\n",
    "features = [f for i,f in enumerate(features) if f not in features[:i]]\n",
    "print(\"Using features:\", features)\n"
   ]
  },
  {
   "cell_type": "markdown",
   "id": "34f17666-302f-499e-9f2f-0722df76d3bb",
   "metadata": {},
   "source": [
    "# Categorical & Numerical Lists"
   ]
  },
  {
   "cell_type": "code",
   "execution_count": 9,
   "id": "f67e96a3-d503-4c55-963c-89ad3438a653",
   "metadata": {},
   "outputs": [
    {
     "name": "stdout",
     "output_type": "stream",
     "text": [
      "Correlation with Price:\n"
     ]
    },
    {
     "data": {
      "text/plain": [
       "Price              1.000000\n",
       "Total_Stops_Num    0.603883\n",
       "Duration_mins      0.506371\n",
       "Arr_Hour           0.024264\n",
       "Dep_Hour           0.006819\n",
       "Dep_Min           -0.024492\n",
       "Arr_Min           -0.086155\n",
       "Journey_Month     -0.103651\n",
       "Journey_Day       -0.153738\n",
       "Name: Price, dtype: float64"
      ]
     },
     "metadata": {},
     "output_type": "display_data"
    },
    {
     "data": {
      "image/png": "[encoded data removed]",
      "text/plain": [
       "<Figure size 640x480 with 2 Axes>"
      ]
     },
     "metadata": {},
     "output_type": "display_data"
    }
   ],
   "source": [
    "# Cell 9 - Quick correlation for numeric features with Price\n",
    "num_features = [c for c in features if c in df.select_dtypes(include=np.number).columns]\n",
    "if num_features:\n",
    "    print(\"Correlation with Price:\")\n",
    "    display(df[['Price']+num_features].corr()['Price'].sort_values(ascending=False))\n",
    "    sns.heatmap(df[['Price']+num_features].corr(), annot=True, cmap='coolwarm')\n",
    "    plt.show()\n"
   ]
  },
  {
   "cell_type": "code",
   "execution_count": 10,
   "id": "c0c938ba-3c92-454e-a5e2-3bcbd5b2d9b2",
   "metadata": {},
   "outputs": [
    {
     "data": {
      "text/plain": [
       "((10683, 13), (10683,))"
      ]
     },
     "execution_count": 10,
     "metadata": {},
     "output_type": "execute_result"
    }
   ],
   "source": [
    "#  Prepare X, y\n",
    "X = df[features].copy()\n",
    "y = df['Price'].astype(float)\n",
    "X.shape, y.shape\n"
   ]
  },
  {
   "cell_type": "code",
   "execution_count": 11,
   "id": "c60ab292-7784-4874-8181-794fded24f91",
   "metadata": {},
   "outputs": [
    {
     "name": "stdout",
     "output_type": "stream",
     "text": [
      "Categorical: ['Airline', 'Source', 'Destination', 'Route', 'Additional_Info']\n",
      "Numerical: ['Duration_mins', 'Total_Stops_Num', 'Journey_Day', 'Journey_Month', 'Dep_Hour', 'Dep_Min', 'Arr_Hour', 'Arr_Min']\n"
     ]
    }
   ],
   "source": [
    "# Define categorical and numerical lists properly for the pipeline\n",
    "categorical_cols = [c for c in X.columns if X[c].dtype == 'object']\n",
    "numerical_cols = [c for c in X.columns if c not in categorical_cols]\n",
    "print(\"Categorical:\", categorical_cols)\n",
    "print(\"Numerical:\", numerical_cols)\n"
   ]
  },
  {
   "cell_type": "markdown",
   "id": "0b2153cb-101c-4669-8fd0-a8f1e52c6188",
   "metadata": {},
   "source": [
    "# Build preprocessing pipeline"
   ]
  },
  {
   "cell_type": "code",
   "execution_count": 12,
   "id": "34547a2d-a3e3-4e72-99b5-68e4f4b2eac3",
   "metadata": {},
   "outputs": [],
   "source": [
    "\n",
    "from sklearn.impute import SimpleImputer\n",
    "\n",
    "num_pipeline = Pipeline([\n",
    "    ('imputer', SimpleImputer(strategy='median')),\n",
    "    ('scaler', StandardScaler())\n",
    "])\n",
    "\n",
    "cat_pipeline = Pipeline([\n",
    "    ('imputer', SimpleImputer(strategy='constant', fill_value='No Info')),\n",
    "    ('onehot', OneHotEncoder(handle_unknown='ignore', sparse_output=False))\n",
    "])\n",
    "\n",
    "\n",
    "preprocessor = ColumnTransformer([\n",
    "    ('num', num_pipeline, numerical_cols),\n",
    "    ('cat', cat_pipeline, categorical_cols)\n",
    "])\n"
   ]
  },
  {
   "cell_type": "markdown",
   "id": "cb450f78-e8ef-4bab-9fb4-1246bd02e859",
   "metadata": {},
   "source": [
    "#  Train/Test split"
   ]
  },
  {
   "cell_type": "code",
   "execution_count": 13,
   "id": "a73ba654-b9be-4ac6-b8a0-74820188f62a",
   "metadata": {},
   "outputs": [
    {
     "name": "stdout",
     "output_type": "stream",
     "text": [
      "(8546, 13) (2137, 13)\n"
     ]
    }
   ],
   "source": [
    "\n",
    "X_train, X_test, y_train, y_test = train_test_split(X, y, test_size=0.20, random_state=42)\n",
    "print(X_train.shape, X_test.shape)\n"
   ]
  },
  {
   "cell_type": "markdown",
   "id": "4ab319fe-82fc-4a56-b944-655eabe93b9d",
   "metadata": {},
   "source": [
    "# Train Candidate Models"
   ]
  },
  {
   "cell_type": "code",
   "execution_count": 14,
   "id": "b96a6052-739c-4c9a-af1b-ddde09e98df2",
   "metadata": {},
   "outputs": [
    {
     "name": "stdout",
     "output_type": "stream",
     "text": [
      "LinearRegression: R2=0.7449, MAE=1578.31, RMSE=2323.74\n",
      "RandomForest: R2=0.8895, MAE=599.19, RMSE=1529.59\n",
      "GradientBoosting: R2=0.8216, MAE=1293.48, RMSE=1942.87\n"
     ]
    }
   ],
   "source": [
    "\n",
    "models = {\n",
    "    \"LinearRegression\": LinearRegression(),\n",
    "    \"RandomForest\": RandomForestRegressor(n_estimators=200, random_state=42),\n",
    "    \"GradientBoosting\": GradientBoostingRegressor(random_state=42)\n",
    "}\n",
    "\n",
    "results = {}\n",
    "trained_pipelines = {}\n",
    "\n",
    "for name, model in models.items():\n",
    "    pipe = Pipeline([\n",
    "        ('preprocessor', preprocessor),\n",
    "        ('model', model)\n",
    "    ])\n",
    "    pipe.fit(X_train, y_train)\n",
    "    y_pred = pipe.predict(X_test)\n",
    "    r2 = r2_score(y_test, y_pred)\n",
    "    mae = mean_absolute_error(y_test, y_pred)\n",
    "    rmse = np.sqrt(mean_squared_error(y_test, y_pred))\n",
    "    results[name] = {'R2': r2, 'MAE': mae, 'RMSE': rmse}\n",
    "    trained_pipelines[name] = pipe\n",
    "    print(f\"{name}: R2={r2:.4f}, MAE={mae:.2f}, RMSE={rmse:.2f}\")\n"
   ]
  },
  {
   "cell_type": "markdown",
   "id": "48f48b6d-c617-4422-9807-2813560fc03f",
   "metadata": {},
   "source": [
    "#  Compare & choose best by R2"
   ]
  },
  {
   "cell_type": "code",
   "execution_count": 15,
   "id": "fa3357b0-cc01-4239-88f7-60f75a71e8c4",
   "metadata": {},
   "outputs": [
    {
     "data": {
      "text/html": [
       "<div>\n",
       "<style scoped>\n",
       "    .dataframe tbody tr th:only-of-type {\n",
       "        vertical-align: middle;\n",
       "    }\n",
       "\n",
       "    .dataframe tbody tr th {\n",
       "        vertical-align: top;\n",
       "    }\n",
       "\n",
       "    .dataframe thead th {\n",
       "        text-align: right;\n",
       "    }\n",
       "</style>\n",
       "<table border=\"1\" class=\"dataframe\">\n",
       "  <thead>\n",
       "    <tr style=\"text-align: right;\">\n",
       "      <th></th>\n",
       "      <th>R2</th>\n",
       "      <th>MAE</th>\n",
       "      <th>RMSE</th>\n",
       "    </tr>\n",
       "  </thead>\n",
       "  <tbody>\n",
       "    <tr>\n",
       "      <th>RandomForest</th>\n",
       "      <td>0.889451</td>\n",
       "      <td>599.185250</td>\n",
       "      <td>1529.593174</td>\n",
       "    </tr>\n",
       "    <tr>\n",
       "      <th>GradientBoosting</th>\n",
       "      <td>0.821644</td>\n",
       "      <td>1293.481295</td>\n",
       "      <td>1942.866008</td>\n",
       "    </tr>\n",
       "    <tr>\n",
       "      <th>LinearRegression</th>\n",
       "      <td>0.744861</td>\n",
       "      <td>1578.308409</td>\n",
       "      <td>2323.739117</td>\n",
       "    </tr>\n",
       "  </tbody>\n",
       "</table>\n",
       "</div>"
      ],
      "text/plain": [
       "                        R2          MAE         RMSE\n",
       "RandomForest      0.889451   599.185250  1529.593174\n",
       "GradientBoosting  0.821644  1293.481295  1942.866008\n",
       "LinearRegression  0.744861  1578.308409  2323.739117"
      ]
     },
     "metadata": {},
     "output_type": "display_data"
    },
    {
     "name": "stdout",
     "output_type": "stream",
     "text": [
      "Best Model: RandomForest\n"
     ]
    }
   ],
   "source": [
    "\n",
    "results_df = pd.DataFrame(results).T.sort_values(by='R2', ascending=False)\n",
    "display(results_df)\n",
    "best_model_name = results_df.index[0]\n",
    "best_pipeline = trained_pipelines[best_model_name]\n",
    "print(\"Best Model:\", best_model_name)\n"
   ]
  },
  {
   "cell_type": "markdown",
   "id": "50c72379-7c63-42fd-b6e4-e7c6c3791d78",
   "metadata": {},
   "source": [
    "# Final evaluation on test set & save metrics"
   ]
  },
  {
   "cell_type": "code",
   "execution_count": 16,
   "id": "81e19c66-0342-4b45-bd2b-bda59f3d5803",
   "metadata": {},
   "outputs": [
    {
     "name": "stdout",
     "output_type": "stream",
     "text": [
      "Final model (RandomForest) performance on test set:\n",
      "R2: 0.889451000268347\n",
      "MAE: 599.1852496648247\n",
      "RMSE: 1529.5931739551168\n"
     ]
    }
   ],
   "source": [
    "\n",
    "y_test_pred = best_pipeline.predict(X_test)\n",
    "final_r2 = r2_score(y_test, y_test_pred)\n",
    "final_mae = mean_absolute_error(y_test, y_test_pred)\n",
    "final_rmse = np.sqrt(mean_squared_error(y_test, y_test_pred))\n",
    "print(f\"Final model ({best_model_name}) performance on test set:\")\n",
    "print(\"R2:\", final_r2)\n",
    "print(\"MAE:\", final_mae)\n",
    "print(\"RMSE:\", final_rmse)\n",
    "\n",
    "metrics = {\n",
    "    'Model': best_model_name,\n",
    "    'R2': final_r2,\n",
    "    'MAE': final_mae,\n",
    "    'RMSE': final_rmse\n",
    "}\n",
    "pd.DataFrame([metrics]).to_excel(\"model_performance.xlsx\", index=False)\n"
   ]
  },
  {
   "cell_type": "markdown",
   "id": "4bf9eddb-088d-47e7-b5a8-a23fb85bb309",
   "metadata": {},
   "source": [
    "#  Feature importances ( tree models)"
   ]
  },
  {
   "cell_type": "code",
   "execution_count": 17,
   "id": "af05f80d-d6c7-4803-9d08-1d89e849b735",
   "metadata": {},
   "outputs": [
    {
     "data": {
      "text/html": [
       "<div>\n",
       "<style scoped>\n",
       "    .dataframe tbody tr th:only-of-type {\n",
       "        vertical-align: middle;\n",
       "    }\n",
       "\n",
       "    .dataframe tbody tr th {\n",
       "        vertical-align: top;\n",
       "    }\n",
       "\n",
       "    .dataframe thead th {\n",
       "        text-align: right;\n",
       "    }\n",
       "</style>\n",
       "<table border=\"1\" class=\"dataframe\">\n",
       "  <thead>\n",
       "    <tr style=\"text-align: right;\">\n",
       "      <th></th>\n",
       "      <th>Variable</th>\n",
       "      <th>Feature Importance Score</th>\n",
       "    </tr>\n",
       "  </thead>\n",
       "  <tbody>\n",
       "    <tr>\n",
       "      <th>0</th>\n",
       "      <td>Duration_mins</td>\n",
       "      <td>0.441208</td>\n",
       "    </tr>\n",
       "    <tr>\n",
       "      <th>1</th>\n",
       "      <td>Journey_Day</td>\n",
       "      <td>0.095065</td>\n",
       "    </tr>\n",
       "    <tr>\n",
       "      <th>2</th>\n",
       "      <td>Additional_Info_In-flight meal not included</td>\n",
       "      <td>0.075406</td>\n",
       "    </tr>\n",
       "    <tr>\n",
       "      <th>3</th>\n",
       "      <td>Airline_Jet Airways Business</td>\n",
       "      <td>0.060615</td>\n",
       "    </tr>\n",
       "    <tr>\n",
       "      <th>4</th>\n",
       "      <td>Airline_Jet Airways</td>\n",
       "      <td>0.056714</td>\n",
       "    </tr>\n",
       "    <tr>\n",
       "      <th>5</th>\n",
       "      <td>Journey_Month</td>\n",
       "      <td>0.044618</td>\n",
       "    </tr>\n",
       "    <tr>\n",
       "      <th>6</th>\n",
       "      <td>Total_Stops_Num</td>\n",
       "      <td>0.026819</td>\n",
       "    </tr>\n",
       "    <tr>\n",
       "      <th>7</th>\n",
       "      <td>Route_BLR → BOM → DEL</td>\n",
       "      <td>0.025369</td>\n",
       "    </tr>\n",
       "    <tr>\n",
       "      <th>8</th>\n",
       "      <td>Arr_Hour</td>\n",
       "      <td>0.018906</td>\n",
       "    </tr>\n",
       "    <tr>\n",
       "      <th>9</th>\n",
       "      <td>Dep_Hour</td>\n",
       "      <td>0.017450</td>\n",
       "    </tr>\n",
       "    <tr>\n",
       "      <th>10</th>\n",
       "      <td>Airline_Multiple carriers</td>\n",
       "      <td>0.016569</td>\n",
       "    </tr>\n",
       "    <tr>\n",
       "      <th>11</th>\n",
       "      <td>Dep_Min</td>\n",
       "      <td>0.015649</td>\n",
       "    </tr>\n",
       "    <tr>\n",
       "      <th>12</th>\n",
       "      <td>Arr_Min</td>\n",
       "      <td>0.012233</td>\n",
       "    </tr>\n",
       "    <tr>\n",
       "      <th>13</th>\n",
       "      <td>Route_DEL → BOM → COK</td>\n",
       "      <td>0.011343</td>\n",
       "    </tr>\n",
       "    <tr>\n",
       "      <th>14</th>\n",
       "      <td>Destination_New Delhi</td>\n",
       "      <td>0.006802</td>\n",
       "    </tr>\n",
       "    <tr>\n",
       "      <th>15</th>\n",
       "      <td>Airline_IndiGo</td>\n",
       "      <td>0.004587</td>\n",
       "    </tr>\n",
       "    <tr>\n",
       "      <th>16</th>\n",
       "      <td>Additional_Info_No info</td>\n",
       "      <td>0.004060</td>\n",
       "    </tr>\n",
       "    <tr>\n",
       "      <th>17</th>\n",
       "      <td>Route_CCU → DEL → BLR</td>\n",
       "      <td>0.003938</td>\n",
       "    </tr>\n",
       "    <tr>\n",
       "      <th>18</th>\n",
       "      <td>Airline_Air India</td>\n",
       "      <td>0.003764</td>\n",
       "    </tr>\n",
       "    <tr>\n",
       "      <th>19</th>\n",
       "      <td>Route_DEL → JDH → BOM → COK</td>\n",
       "      <td>0.003024</td>\n",
       "    </tr>\n",
       "    <tr>\n",
       "      <th>20</th>\n",
       "      <td>Route_DEL → HYD → MAA → COK</td>\n",
       "      <td>0.002821</td>\n",
       "    </tr>\n",
       "    <tr>\n",
       "      <th>21</th>\n",
       "      <td>Source_Mumbai</td>\n",
       "      <td>0.002352</td>\n",
       "    </tr>\n",
       "    <tr>\n",
       "      <th>22</th>\n",
       "      <td>Airline_SpiceJet</td>\n",
       "      <td>0.002328</td>\n",
       "    </tr>\n",
       "    <tr>\n",
       "      <th>23</th>\n",
       "      <td>Route_DEL → HYD → COK</td>\n",
       "      <td>0.002183</td>\n",
       "    </tr>\n",
       "    <tr>\n",
       "      <th>24</th>\n",
       "      <td>Destination_Hyderabad</td>\n",
       "      <td>0.002179</td>\n",
       "    </tr>\n",
       "    <tr>\n",
       "      <th>25</th>\n",
       "      <td>Additional_Info_Business class</td>\n",
       "      <td>0.002177</td>\n",
       "    </tr>\n",
       "    <tr>\n",
       "      <th>26</th>\n",
       "      <td>Source_Delhi</td>\n",
       "      <td>0.002148</td>\n",
       "    </tr>\n",
       "    <tr>\n",
       "      <th>27</th>\n",
       "      <td>Route_DEL → IDR → BOM → COK</td>\n",
       "      <td>0.001989</td>\n",
       "    </tr>\n",
       "    <tr>\n",
       "      <th>28</th>\n",
       "      <td>Destination_Cochin</td>\n",
       "      <td>0.001961</td>\n",
       "    </tr>\n",
       "    <tr>\n",
       "      <th>29</th>\n",
       "      <td>Destination_Banglore</td>\n",
       "      <td>0.001725</td>\n",
       "    </tr>\n",
       "  </tbody>\n",
       "</table>\n",
       "</div>"
      ],
      "text/plain": [
       "                                       Variable  Feature Importance Score\n",
       "0                                 Duration_mins                  0.441208\n",
       "1                                   Journey_Day                  0.095065\n",
       "2   Additional_Info_In-flight meal not included                  0.075406\n",
       "3                  Airline_Jet Airways Business                  0.060615\n",
       "4                           Airline_Jet Airways                  0.056714\n",
       "5                                 Journey_Month                  0.044618\n",
       "6                               Total_Stops_Num                  0.026819\n",
       "7                         Route_BLR → BOM → DEL                  0.025369\n",
       "8                                      Arr_Hour                  0.018906\n",
       "9                                      Dep_Hour                  0.017450\n",
       "10                    Airline_Multiple carriers                  0.016569\n",
       "11                                      Dep_Min                  0.015649\n",
       "12                                      Arr_Min                  0.012233\n",
       "13                        Route_DEL → BOM → COK                  0.011343\n",
       "14                        Destination_New Delhi                  0.006802\n",
       "15                               Airline_IndiGo                  0.004587\n",
       "16                      Additional_Info_No info                  0.004060\n",
       "17                        Route_CCU → DEL → BLR                  0.003938\n",
       "18                            Airline_Air India                  0.003764\n",
       "19                  Route_DEL → JDH → BOM → COK                  0.003024\n",
       "20                  Route_DEL → HYD → MAA → COK                  0.002821\n",
       "21                                Source_Mumbai                  0.002352\n",
       "22                             Airline_SpiceJet                  0.002328\n",
       "23                        Route_DEL → HYD → COK                  0.002183\n",
       "24                        Destination_Hyderabad                  0.002179\n",
       "25               Additional_Info_Business class                  0.002177\n",
       "26                                 Source_Delhi                  0.002148\n",
       "27                  Route_DEL → IDR → BOM → COK                  0.001989\n",
       "28                           Destination_Cochin                  0.001961\n",
       "29                         Destination_Banglore                  0.001725"
      ]
     },
     "metadata": {},
     "output_type": "display_data"
    }
   ],
   "source": [
    "\n",
    "try:\n",
    "    # Extract feature names after preprocessing\n",
    "    ohe = best_pipeline.named_steps['preprocessor'].named_transformers_['cat'].named_steps['onehot']\n",
    "    cat_feature_names = ohe.get_feature_names_out(categorical_cols).tolist()\n",
    "    numeric_feature_names = numerical_cols\n",
    "    all_feature_names = numeric_feature_names + cat_feature_names\n",
    "\n",
    "    # get importances\n",
    "    model_step = best_pipeline.named_steps['model']\n",
    "    if hasattr(model_step, 'feature_importances_'):\n",
    "        importances = model_step.feature_importances_\n",
    "        fi = pd.DataFrame({'Variable': all_feature_names, 'Feature Importance Score': importances})\n",
    "        fi = fi.sort_values('Feature Importance Score', ascending=False).reset_index(drop=True)\n",
    "        fi.to_excel(\"feature_importance.xlsx\", index=False)\n",
    "        display(fi.head(30))\n",
    "    else:\n",
    "        print(\"Model has no feature_importances_ attribute (e.g., LinearRegression).\")\n",
    "except Exception as e:\n",
    "    print(\"Could not compute importances:\", e)\n"
   ]
  },
  {
   "cell_type": "markdown",
   "id": "30b2a4a0-7cba-49f3-ba3b-03f561fa4373",
   "metadata": {},
   "source": [
    "# Save model  "
   ]
  },
  {
   "cell_type": "code",
   "execution_count": 18,
   "id": "c28c09c9-7397-4446-ae28-5ea4b6f1d542",
   "metadata": {},
   "outputs": [
    {
     "name": "stdout",
     "output_type": "stream",
     "text": [
      "Saved model pipeline to flight_price_model.pkl\n"
     ]
    }
   ],
   "source": [
    "\n",
    "import joblib\n",
    "joblib.dump(best_pipeline, \"flight_price_model.pkl\")\n",
    "print(\"Saved model pipeline to flight_price_model.pkl\")\n"
   ]
  },
  {
   "cell_type": "markdown",
   "id": "6932888f-d8e2-4899-9b27-96e2fbc88c6e",
   "metadata": {},
   "source": [
    "# Add predictions & export"
   ]
  },
  {
   "cell_type": "code",
   "execution_count": 19,
   "id": "3d055fef-039f-4059-9fd0-e9d9f4987ece",
   "metadata": {},
   "outputs": [
    {
     "name": "stdout",
     "output_type": "stream",
     "text": [
      "Exported predictions to flight_data_with_predictions.xlsx\n"
     ]
    }
   ],
   "source": [
    "\n",
    "df['Predicted_Price'] = best_pipeline.predict(df[features])\n",
    "df.to_excel(\"flight_data_with_predictions.xlsx\", index=False)\n",
    "print(\"Exported predictions to flight_data_with_predictions.xlsx\")\n"
   ]
  },
  {
   "cell_type": "code",
   "execution_count": null,
   "id": "20a68703-3da3-44aa-8764-fcb6634cd548",
   "metadata": {},
   "outputs": [],
   "source": []
  },
  {
   "cell_type": "code",
   "execution_count": null,
   "id": "7a62b592-247a-4607-b192-27b19688a74f",
   "metadata": {},
   "outputs": [],
   "source": []
  }
 ],
 "metadata": {
  "kernelspec": {
   "display_name": "Python 3 (ipykernel)",
   "language": "python",
   "name": "python3"
  },
  "language_info": {
   "codemirror_mode": {
    "name": "ipython",
    "version": 3
   },
   "file_extension": ".py",
   "mimetype": "text/x-python",
   "name": "python",
   "nbconvert_exporter": "python",
   "pygments_lexer": "ipython3",
   "version": "3.12.7"
  }
 },
 "nbformat": 4,
 "nbformat_minor": 5
}
